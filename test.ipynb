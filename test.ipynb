{
 "cells": [
  {
   "cell_type": "markdown",
   "metadata": {},
   "source": [
    "# 实验性代码的存档\n",
    "这里是一些实验性代码的存档，因为源数据过大，很多时候需要用笔算能验算的样本数据验证一边。\n",
    "每份代码都会有对应的使用地方和对应的说明"
   ]
  },
  {
   "cell_type": "code",
   "execution_count": 9,
   "metadata": {},
   "outputs": [
    {
     "name": "stdout",
     "output_type": "stream",
     "text": [
      "The autoreload extension is already loaded. To reload it, use:\n",
      "  %reload_ext autoreload\n"
     ]
    }
   ],
   "source": [
    "#自动同步外界模组\n",
    "# Some more magic so that the notebook will reload external python modules;\n",
    "# see http://stackoverflow.com/questions/1907993/autoreload-of-modules-in-ipython\n",
    "%load_ext autoreload\n",
    "%autoreload 2\n",
    "import numpy as np"
   ]
  },
  {
   "cell_type": "code",
   "execution_count": 1,
   "metadata": {},
   "outputs": [
    {
     "data": {
      "text/plain": [
       "3"
      ]
     },
     "execution_count": 1,
     "metadata": {},
     "output_type": "execute_result"
    }
   ],
   "source": [
    "#########################################\n",
    "#将一个键值对数组根据键值对中的值排序   #\n",
    "#########################################\n",
    "import numpy as np\n",
    "test={1: 3, 2: 2, 3: 6}\n",
    "test=sorted(test.items(),key=lambda t:t[1],reverse=True)\n",
    "test[0][0]\n"
   ]
  },
  {
   "cell_type": "markdown",
   "metadata": {},
   "source": [
    "## knn数组实现的实验过程\n",
    "\n",
    "``` python\n",
    ">>> import numpy\n",
    ">>> import numpy as np\n",
    ">>> a=np.array([[1,2,3],[4,5,6],[7,8,9]])\n",
    ">>> b=np.array([[1,1,1],[2,2,2]])\n",
    ">>> a\n",
    "array([[1, 2, 3],\n",
    "       [4, 5, 6],\n",
    "       [7, 8, 9]])\n",
    ">>> b\n",
    "array([[1, 1, 1],\n",
    "       [2, 2, 2]])\n",
    ">>> c=b.dot(a.T)\n",
    ">>> c\n",
    "array([[ 6, 15, 24],\n",
    "       [12, 30, 48]])\n",
    ">>> c=-2*c\n",
    ">>> c\n",
    "array([[-12, -30, -48],\n",
    "       [-24, -60, -96]])\n",
    ">>> np.square(b)\n",
    "array([[1, 1, 1],\n",
    "       [4, 4, 4]], dtype=int32)\n",
    ">>> bSum=np.square(b)\n",
    ">>> bSum\n",
    "array([[1, 1, 1],\n",
    "       [4, 4, 4]], dtype=int32)\n",
    ">>> bSum.sum(axis=1)\n",
    "array([ 3, 12], dtype=int32)\n",
    ">>> bSum=bSum.sum(axis=1)\n",
    ">>> bSum.reshape((1,2))\n",
    "array([[ 3, 12]], dtype=int32)\n",
    ">>> b+c\n",
    "array([[-11, -29, -47],\n",
    "       [-22, -58, -94]])\n",
    ">>> bSum\n",
    "array([ 3, 12], dtype=int32)\n",
    ">>> np.reshape(bSum,(1,2))\n",
    "array([[ 3, 12]], dtype=int32)\n",
    ">>> bSum\n",
    "array([ 3, 12], dtype=int32)\n",
    ">>> bSum=bSum.reshape((1,2))\n",
    ">>> bSum\n",
    "array([[ 3, 12]], dtype=int32)\n",
    ">>> bSum=bSum.T\n",
    ">>> bSum\n",
    "array([[ 3],\n",
    "       [12]], dtype=int32)\n",
    ">>> c=bSum+c\n",
    ">>> c\n",
    "array([[ -9, -27, -45],\n",
    "       [-12, -48, -84]])\n",
    ">>> np.square(a).sum(axis=1)\n",
    "array([ 14,  77, 194], dtype=int32)\n",
    ">>> a\n",
    "array([[1, 2, 3],\n",
    "       [4, 5, 6],\n",
    "       [7, 8, 9]])\n",
    ">>> np.square(a).sum(axis=1)+c\n",
    "array([[  5,  50, 149],\n",
    "       [  2,  29, 110]])\n",
    ">>> a\n",
    "array([[1, 2, 3],\n",
    "       [4, 5, 6],\n",
    "       [7, 8, 9]])\n",
    ">>> b\n",
    "array([[1, 1, 1],\n",
    "       [2, 2, 2]])\n",
    ">>>\n",
    "```"
   ]
  },
  {
   "cell_type": "code",
   "execution_count": 29,
   "metadata": {},
   "outputs": [
    {
     "data": {
      "text/plain": [
       "[array([0, 1]), array([2, 3]), array([4, 5]), array([6]), array([7])]"
      ]
     },
     "execution_count": 29,
     "metadata": {},
     "output_type": "execute_result"
    }
   ],
   "source": [
    "##########################################\n",
    "#利用np.array_split对一个数组进行均分    #\n",
    "##########################################\n",
    "import numpy as np\n",
    "splitTest=np.arange(8)\n",
    "splitTest=np.array_split(splitTest,5)\n",
    "splitTest"
   ]
  },
  {
   "cell_type": "code",
   "execution_count": 17,
   "metadata": {},
   "outputs": [
    {
     "ename": "NameError",
     "evalue": "name 'splitTest' is not defined",
     "output_type": "error",
     "traceback": [
      "\u001b[1;31m---------------------------------------------------------------------------\u001b[0m",
      "\u001b[1;31mNameError\u001b[0m                                 Traceback (most recent call last)",
      "\u001b[1;32m<ipython-input-17-e8ecfcffe838>\u001b[0m in \u001b[0;36m<module>\u001b[1;34m()\u001b[0m\n\u001b[0;32m      4\u001b[0m \u001b[1;31m#的一连串数组                         #\u001b[0m\u001b[1;33m\u001b[0m\u001b[1;33m\u001b[0m\u001b[0m\n\u001b[0;32m      5\u001b[0m \u001b[1;31m#######################################\u001b[0m\u001b[1;33m\u001b[0m\u001b[1;33m\u001b[0m\u001b[0m\n\u001b[1;32m----> 6\u001b[1;33m \u001b[0mnp\u001b[0m\u001b[1;33m.\u001b[0m\u001b[0mhstack\u001b[0m\u001b[1;33m(\u001b[0m\u001b[1;33m(\u001b[0m\u001b[0msplitTest\u001b[0m\u001b[1;33m[\u001b[0m\u001b[1;36m0\u001b[0m\u001b[1;33m:\u001b[0m\u001b[1;36m1\u001b[0m\u001b[1;33m]\u001b[0m\u001b[1;33m+\u001b[0m\u001b[0msplitTest\u001b[0m\u001b[1;33m[\u001b[0m\u001b[1;36m2\u001b[0m\u001b[1;33m:\u001b[0m\u001b[1;33m]\u001b[0m\u001b[1;33m)\u001b[0m\u001b[1;33m)\u001b[0m\u001b[1;33m\u001b[0m\u001b[0m\n\u001b[0m",
      "\u001b[1;31mNameError\u001b[0m: name 'splitTest' is not defined"
     ]
    }
   ],
   "source": [
    "#######################################\n",
    "#利用hstack对一个数组不同的数组进行   #\n",
    "#拼接，注意hstack接收的是由括号括起来 #\n",
    "#的一连串数组                         #\n",
    "#######################################\n",
    "np.hstack((splitTest[0:1]+splitTest[2:]))"
   ]
  },
  {
   "cell_type": "code",
   "execution_count": 5,
   "metadata": {},
   "outputs": [
    {
     "data": {
      "text/plain": [
       "array([10,  9,  8,  7,  6,  5,  4,  3,  2])"
      ]
     },
     "execution_count": 5,
     "metadata": {},
     "output_type": "execute_result"
    }
   ],
   "source": [
    "######np.arange特殊的用法#################\n",
    "#arange如果是从大到小的话需要填负数的步长#\n",
    "##########################################\n",
    "np.arange(10,1,-1)\n"
   ]
  },
  {
   "cell_type": "code",
   "execution_count": 14,
   "metadata": {},
   "outputs": [
    {
     "name": "stdout",
     "output_type": "stream",
     "text": [
      "[ True  True False]\n"
     ]
    },
    {
     "data": {
      "text/plain": [
       "0.6666666666666666"
      ]
     },
     "execution_count": 14,
     "metadata": {},
     "output_type": "execute_result"
    }
   ],
   "source": [
    "############################\n",
    "#一种快速求结果正确率的方法#\n",
    "############################\n",
    "y_pred=np.array([0,0,1])\n",
    "y_true=np.array([0,0,0])\n",
    "print(y_pred==y_true)\n",
    "np.mean(y_pred==y_true)"
   ]
  },
  {
   "cell_type": "markdown",
   "metadata": {},
   "source": [
    "## SVM 向量化实现"
   ]
  },
  {
   "cell_type": "code",
   "execution_count": 1,
   "metadata": {},
   "outputs": [
    {
     "name": "stdout",
     "output_type": "stream",
     "text": [
      "X: (3, 3)\n",
      "y: (3,)\n",
      "W: (3, 2)\n"
     ]
    }
   ],
   "source": [
    "#初始化\n",
    "import numpy as np\n",
    "X=np.array([[1,2,3],[4,5,6],[7,8,9]])\n",
    "y=np.array([0,1,0])\n",
    "W=np.array([[2,3,1],[1,2,3]]).T\n",
    "print(\"X:\",X.shape)\n",
    "print(\"y:\",y.shape)\n",
    "print(\"W:\",W.shape)"
   ]
  },
  {
   "cell_type": "code",
   "execution_count": 54,
   "metadata": {},
   "outputs": [
    {
     "data": {
      "text/plain": [
       "array([[11, 14],\n",
       "       [29, 32],\n",
       "       [47, 50]])"
      ]
     },
     "execution_count": 54,
     "metadata": {},
     "output_type": "execute_result"
    }
   ],
   "source": [
    "#进行原数据与权重矩阵的相乘\n",
    "score=X.dot(W)\n",
    "score"
   ]
  },
  {
   "cell_type": "code",
   "execution_count": 51,
   "metadata": {},
   "outputs": [
    {
     "data": {
      "text/plain": [
       "(1, 3)"
      ]
     },
     "execution_count": 51,
     "metadata": {},
     "output_type": "execute_result"
    }
   ],
   "source": [
    "y=y.reshape(-1,3)\n",
    "y\n",
    "y.shape"
   ]
  },
  {
   "cell_type": "code",
   "execution_count": 52,
   "metadata": {},
   "outputs": [
    {
     "data": {
      "text/plain": [
       "array([[11, 32, 47]])"
      ]
     },
     "execution_count": 52,
     "metadata": {},
     "output_type": "execute_result"
    }
   ],
   "source": [
    "score_of_true_label=score[range(0,3),y]\n",
    "score_of_true_label"
   ]
  },
  {
   "cell_type": "code",
   "execution_count": 39,
   "metadata": {},
   "outputs": [
    {
     "data": {
      "text/plain": [
       "array([[ 1,  4],\n",
       "       [-2,  1],\n",
       "       [ 1,  4]])"
      ]
     },
     "execution_count": 39,
     "metadata": {},
     "output_type": "execute_result"
    }
   ],
   "source": [
    "first_sum=score-score_of_true_label.T+1\n",
    "first_sum"
   ]
  },
  {
   "cell_type": "code",
   "execution_count": 42,
   "metadata": {},
   "outputs": [
    {
     "data": {
      "text/plain": [
       "array([[1, 4],\n",
       "       [0, 1],\n",
       "       [1, 4]])"
      ]
     },
     "execution_count": 42,
     "metadata": {},
     "output_type": "execute_result"
    }
   ],
   "source": [
    "first_sum[first_sum<0]=0\n",
    "first_sum"
   ]
  },
  {
   "cell_type": "code",
   "execution_count": 47,
   "metadata": {},
   "outputs": [],
   "source": [
    "second_sum=first_sum.sum(axis=1)-1"
   ]
  },
  {
   "cell_type": "code",
   "execution_count": 49,
   "metadata": {},
   "outputs": [],
   "source": [
    "former_sum=second_sum.sum()"
   ]
  },
  {
   "cell_type": "markdown",
   "metadata": {},
   "source": [
    "# 小规模测试"
   ]
  },
  {
   "cell_type": "code",
   "execution_count": 3,
   "metadata": {},
   "outputs": [
    {
     "name": "stdout",
     "output_type": "stream",
     "text": [
      "X: (3, 3)\n",
      "y: (3,)\n",
      "W: (3, 2)\n"
     ]
    }
   ],
   "source": [
    "import numpy as np\n",
    "X=np.array([[1,2,3],[4,5,6],[7,8,9]])\n",
    "y=np.array([0,1,0])\n",
    "W=np.array([[2,3,1],[1,2,3]]).T\n",
    "print(\"X:\",X.shape)\n",
    "print(\"y:\",y.shape)\n",
    "print(\"W:\",W.shape)"
   ]
  },
  {
   "cell_type": "code",
   "execution_count": 4,
   "metadata": {},
   "outputs": [
    {
     "name": "stdout",
     "output_type": "stream",
     "text": [
      "(4.066666666666666, array([[-2.46666667,  2.76666667],\n",
      "       [-3.03333333,  3.53333333],\n",
      "       [-3.9       ,  4.3       ]]))\n",
      "[[0 1]\n",
      " [0 0]\n",
      " [0 1]]\n",
      "[-1  0 -1]\n",
      "[[-1  1]\n",
      " [ 0  0]\n",
      " [-1  1]]\n",
      "(4.066666666666666, array([[-2.46666667,  2.76666667],\n",
      "       [-3.03333333,  3.53333333],\n",
      "       [-3.9       ,  4.3       ]]))\n"
     ]
    }
   ],
   "source": [
    "from cs231n.classifiers.linear_svm import svm_loss_vectorized,svm_loss_naive\n",
    "print(svm_loss_naive(W,X,y,0.05))\n",
    "print(svm_loss_vectorized(W,X,y,0.05))"
   ]
  },
  {
   "cell_type": "markdown",
   "metadata": {},
   "source": [
    "# 梯度实验"
   ]
  },
  {
   "cell_type": "code",
   "execution_count": 3,
   "metadata": {},
   "outputs": [
    {
     "name": "stdout",
     "output_type": "stream",
     "text": [
      "X: (3, 3)\n",
      "y: (3,)\n",
      "W: (3, 2)\n"
     ]
    },
    {
     "data": {
      "text/plain": [
       "array([[0, 4],\n",
       "       [0, 0],\n",
       "       [0, 4]])"
      ]
     },
     "execution_count": 3,
     "metadata": {},
     "output_type": "execute_result"
    }
   ],
   "source": [
    "#初始化\n",
    "import numpy as np\n",
    "X=np.array([[1,2,3],[4,5,6],[7,8,9]])\n",
    "y=np.array([0,1,0])\n",
    "W=np.array([[2,3,1],[1,2,3]]).T\n",
    "print(\"X:\",X.shape)\n",
    "print(\"y:\",y.shape)\n",
    "print(\"W:\",W.shape)\n",
    "score=X.dot(W)\n",
    "y=y.reshape(-1,3)\n",
    "score_of_true_label=score[range(0,3),y]\n",
    "first_sum=score-score_of_true_label.T+1\n",
    "first_sum[first_sum<0]=0\n",
    "first_sum[np.arange(3),y]=0\n",
    "first_sum"
   ]
  },
  {
   "cell_type": "code",
   "execution_count": 8,
   "metadata": {},
   "outputs": [
    {
     "name": "stdout",
     "output_type": "stream",
     "text": [
      "X:\n",
      " [[1 2 3]\n",
      " [4 5 6]\n",
      " [7 8 9]] \n",
      "W:\n",
      " [[2 1]\n",
      " [3 2]\n",
      " [1 3]]\n"
     ]
    }
   ],
   "source": [
    "print(\"X:\\n\",X,\"\\nW:\\n\",W)"
   ]
  },
  {
   "cell_type": "code",
   "execution_count": 4,
   "metadata": {},
   "outputs": [
    {
     "data": {
      "text/plain": [
       "array([[0, 4],\n",
       "       [0, 0],\n",
       "       [0, 4]])"
      ]
     },
     "execution_count": 4,
     "metadata": {},
     "output_type": "execute_result"
    }
   ],
   "source": [
    "first_sum.astype(int)"
   ]
  },
  {
   "cell_type": "markdown",
   "metadata": {},
   "source": [
    "# 分类测试"
   ]
  },
  {
   "cell_type": "code",
   "execution_count": 3,
   "metadata": {},
   "outputs": [
    {
     "name": "stdout",
     "output_type": "stream",
     "text": [
      "X: (3, 3)\n",
      "y: (3,)\n",
      "W: (3, 2)\n"
     ]
    },
    {
     "data": {
      "text/plain": [
       "array([[11, 14],\n",
       "       [29, 32],\n",
       "       [47, 50]])"
      ]
     },
     "execution_count": 3,
     "metadata": {},
     "output_type": "execute_result"
    }
   ],
   "source": [
    "#初始化\n",
    "import numpy as np\n",
    "X=np.array([[1,2,3],[4,5,6],[7,8,9]])\n",
    "y=np.array([0,1,0])\n",
    "W=np.array([[2,3,1],[1,2,3]]).T\n",
    "print(\"X:\",X.shape)\n",
    "print(\"y:\",y.shape)\n",
    "print(\"W:\",W.shape)\n",
    "score=X.dot(W)\n",
    "score"
   ]
  },
  {
   "cell_type": "code",
   "execution_count": 4,
   "metadata": {},
   "outputs": [
    {
     "data": {
      "text/plain": [
       "array([1, 1, 1], dtype=int64)"
      ]
     },
     "execution_count": 4,
     "metadata": {},
     "output_type": "execute_result"
    }
   ],
   "source": [
    "score.argmax(axis=1)"
   ]
  },
  {
   "cell_type": "markdown",
   "metadata": {},
   "source": [
    "# 调整超参数实验"
   ]
  },
  {
   "cell_type": "code",
   "execution_count": 5,
   "metadata": {},
   "outputs": [
    {
     "name": "stdout",
     "output_type": "stream",
     "text": [
      "1e-07 50000.0\n",
      "1e-07 100000.0\n",
      "5e-06 50000.0\n",
      "5e-06 100000.0\n"
     ]
    }
   ],
   "source": [
    "learning_rates = [1e-7, 5e-6]\n",
    "regularization_strengths = [5e4, 1e5]\n",
    "for lr in learning_rates:\n",
    "    for reg in regularization_strengths:\n",
    "        print(lr, reg)"
   ]
  },
  {
   "cell_type": "markdown",
   "metadata": {},
   "source": [
    "# Softmax实验"
   ]
  },
  {
   "cell_type": "code",
   "execution_count": 44,
   "metadata": {},
   "outputs": [
    {
     "name": "stdout",
     "output_type": "stream",
     "text": [
      "X: (3, 3)\n",
      "y: (3,)\n",
      "W: (3, 2)\n",
      "[[-39 -36]\n",
      " [-21 -18]\n",
      " [ -3   0]]\n",
      "[[1.15482242e-17 2.31952283e-16]\n",
      " [7.58256043e-10 1.52299797e-08]\n",
      " [4.97870684e-02 1.00000000e+00]] \n",
      "\n",
      "[[2.43500507e-16 2.43500507e-16]\n",
      " [1.59882358e-08 1.59882358e-08]\n",
      " [1.04978707e+00 1.04978707e+00]]\n"
     ]
    },
    {
     "data": {
      "text/plain": [
       "array([1.01619578, 0.01619578, 1.01619578])"
      ]
     },
     "execution_count": 44,
     "metadata": {},
     "output_type": "execute_result"
    }
   ],
   "source": [
    "#初始化\n",
    "import numpy as np\n",
    "X=np.array([[1,2,3],[4,5,6],[7,8,9]])\n",
    "y=np.array([0,1,0])\n",
    "W=np.array([[2,3,1],[1,2,3]]).T\n",
    "print(\"X:\",X.shape)\n",
    "print(\"y:\",y.shape)\n",
    "print(\"W:\",W.shape)\n",
    "score=X.dot(W)\n",
    "print(score-score.max())\n",
    "score=np.power(np.exp(1),score-score.max())\n",
    "print(score,\"\\n\")\n",
    "print(score.sum(axis=1).reshape((3,1)).dot(np.ones((1,2))))\n",
    "score=score/score.sum(axis=1).reshape((3,1)).dot(np.ones((1,2)))\n",
    "loss=-np.log(score)[np.arange(3),y]\n",
    "loss/=3\n",
    "loss\n"
   ]
  },
  {
   "cell_type": "code",
   "execution_count": 29,
   "metadata": {},
   "outputs": [
    {
     "data": {
      "text/plain": [
       "array([[1.        , 2.        , 3.        ],\n",
       "       [2.        , 2.5       , 3.        ],\n",
       "       [2.33333333, 2.66666667, 3.        ]])"
      ]
     },
     "execution_count": 29,
     "metadata": {},
     "output_type": "execute_result"
    }
   ],
   "source": [
    "X=np.array([[1,2,3],[4,5,6],[7,8,9]])\n",
    "y=np.array([1,2,3]).T.reshape(3,1).dot(np.ones((1,3)))\n",
    "X/y"
   ]
  },
  {
   "cell_type": "markdown",
   "metadata": {},
   "source": [
    "# 矩阵筛选实验"
   ]
  },
  {
   "cell_type": "code",
   "execution_count": 3,
   "metadata": {},
   "outputs": [
    {
     "data": {
      "text/plain": [
       "array([[ 0,  1,  2,  3,  4,  5,  6],\n",
       "       [ 7,  8,  9, 10,  0,  0,  0],\n",
       "       [ 0,  0,  0,  0,  0,  0,  0],\n",
       "       [ 0,  0,  0,  0,  0,  0,  0],\n",
       "       [ 0,  0,  0,  0,  0,  0,  0]])"
      ]
     },
     "execution_count": 3,
     "metadata": {},
     "output_type": "execute_result"
    }
   ],
   "source": [
    "import numpy as np\n",
    "y = np.arange(35).reshape(5,7)\n",
    "y[y>10]=0\n",
    "y"
   ]
  },
  {
   "cell_type": "markdown",
   "metadata": {},
   "source": [
    "# tensorflow运行实验"
   ]
  },
  {
   "cell_type": "code",
   "execution_count": 4,
   "metadata": {},
   "outputs": [
    {
     "name": "stdout",
     "output_type": "stream",
     "text": [
      "Downloading data from https://storage.googleapis.com/tensorflow/tf-keras-datasets/mnist.npz\n",
      "11493376/11490434 [==============================] - 4s 0us/step\n",
      "Epoch 1/5\n",
      "60000/60000 [==============================] - 10s 167us/step - loss: 0.1989 - acc: 0.9410\n",
      "Epoch 2/5\n",
      "60000/60000 [==============================] - 7s 120us/step - loss: 0.0798 - acc: 0.9756\n",
      "Epoch 3/5\n",
      "60000/60000 [==============================] - 7s 121us/step - loss: 0.0525 - acc: 0.9829\n",
      "Epoch 4/5\n",
      "60000/60000 [==============================] - 7s 119us/step - loss: 0.0371 - acc: 0.9881\n",
      "Epoch 5/5\n",
      "60000/60000 [==============================] - 7s 119us/step - loss: 0.0288 - acc: 0.9904\n",
      "10000/10000 [==============================] - 1s 92us/step\n"
     ]
    },
    {
     "data": {
      "text/plain": [
       "[0.07032331763250986, 0.9801]"
      ]
     },
     "execution_count": 4,
     "metadata": {},
     "output_type": "execute_result"
    }
   ],
   "source": [
    "import tensorflow as tf\n",
    "mnist = tf.keras.datasets.mnist\n",
    "\n",
    "(x_train, y_train),(x_test, y_test) = mnist.load_data()\n",
    "x_train, x_test = x_train / 255.0, x_test / 255.0\n",
    "\n",
    "model = tf.keras.models.Sequential([\n",
    "  tf.keras.layers.Flatten(),\n",
    "  tf.keras.layers.Dense(512, activation=tf.nn.relu),\n",
    "  tf.keras.layers.Dropout(0.2),\n",
    "  tf.keras.layers.Dense(10, activation=tf.nn.softmax)\n",
    "])\n",
    "model.compile(optimizer='adam',\n",
    "              loss='sparse_categorical_crossentropy',\n",
    "              metrics=['accuracy'])\n",
    "\n",
    "model.fit(x_train, y_train, epochs=5)\n",
    "model.evaluate(x_test, y_test)\n"
   ]
  },
  {
   "cell_type": "code",
   "execution_count": 2,
   "metadata": {},
   "outputs": [
    {
     "name": "stdout",
     "output_type": "stream",
     "text": [
      "Elapsed time: 0.9944236278533936 s\n",
      "249995540000.0\n"
     ]
    }
   ],
   "source": [
    "import tensorflow as tf\n",
    "import numpy as np\n",
    "import time\n",
    "shape = (10000,10000)\n",
    "\n",
    "# /cpu:0 ... first available CPU\n",
    "# /gpu:0 ... first available GPU\n",
    "\n",
    "with tf.device(\"/gpu:0\"):\n",
    "    random_matrix = tf.random_uniform(shape)\n",
    "    matrix_multiply = tf.matmul(random_matrix,tf.transpose(random_matrix))\n",
    "    sum_of_result = tf.reduce_sum(matrix_multiply)\n",
    "\n",
    "t_start = time.time()\n",
    "with tf.Session() as session:\n",
    "    result = session.run(sum_of_result)\n",
    "\n",
    "t_stop = time.time()\n",
    "t_passed = t_stop - t_start\n",
    "print('Elapsed time: {} s'.format(t_passed))\n",
    "print(result)"
   ]
  },
  {
   "cell_type": "markdown",
   "metadata": {},
   "source": [
    "# 随意测试"
   ]
  },
  {
   "cell_type": "code",
   "execution_count": 6,
   "metadata": {},
   "outputs": [],
   "source": [
    "import numpy as np\n",
    "?np.mean"
   ]
  },
  {
   "cell_type": "code",
   "execution_count": null,
   "metadata": {},
   "outputs": [],
   "source": []
  }
 ],
 "metadata": {
  "kernelspec": {
   "display_name": "Python 3",
   "language": "python",
   "name": "python3"
  },
  "language_info": {
   "codemirror_mode": {
    "name": "ipython",
    "version": 3
   },
   "file_extension": ".py",
   "mimetype": "text/x-python",
   "name": "python",
   "nbconvert_exporter": "python",
   "pygments_lexer": "ipython3",
   "version": "3.6.5"
  }
 },
 "nbformat": 4,
 "nbformat_minor": 2
}
